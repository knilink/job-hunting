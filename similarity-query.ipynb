{
 "cells": [
  {
   "cell_type": "code",
   "execution_count": 1,
   "metadata": {},
   "outputs": [
    {
     "data": {
      "text/html": [
       "<table>\n",
       "<tbody>\n",
       "<tr><td>psycopg2</td><td>2.6.2 (dt dec pq3 ext lo64)</td></tr>\n",
       "<tr><td>gensim  </td><td>3.4.0                      </td></tr>\n",
       "<tr><td>IPython </td><td>6.2.1                      </td></tr>\n",
       "<tr><td>bs4     </td><td>4.5.3                      </td></tr>\n",
       "<tr><td>tabulate</td><td>0.8.2                      </td></tr>\n",
       "</tbody>\n",
       "</table>"
      ],
      "text/plain": [
       "<IPython.core.display.HTML object>"
      ]
     },
     "metadata": {},
     "output_type": "display_data"
    }
   ],
   "source": [
    "from functools import reduce\n",
    "from gensim.corpora.wikicorpus import tokenize\n",
    "from gensim.corpora import Dictionary, HashDictionary, MmCorpus, WikiCorpus, TextCorpus\n",
    "from gensim import utils, models, similarities\n",
    "from gensim.models import TfidfModel\n",
    "\n",
    "from IPython.display import HTML, display\n",
    "import tabulate, bs4, unicodedata\n",
    "import psycopg2\n",
    "\n",
    "def list_versions(*modules):\n",
    "    global_vars = globals().items()\n",
    "    import types, sys\n",
    "    modules = set([val.__name__.split('.')[0] for name, val in global_vars if isinstance(val, types.ModuleType)]+list(modules))\n",
    "    display(HTML(tabulate.tabulate([(name, sys.modules[name].__version__) for name in modules if hasattr(sys.modules[name],'__version__')], tablefmt='html')))\n",
    "list_versions('IPython')\n",
    "\n",
    "outp  = 'seek'\n",
    "dictionary = None\n",
    "    "
   ]
  },
  {
   "cell_type": "code",
   "execution_count": 2,
   "metadata": {},
   "outputs": [],
   "source": [
    "pgconfig = {\n",
    "    'host': 'postgresql',\n",
    "    'port': 5432,\n",
    "    'database': 'dev',\n",
    "    'user': 'dev',\n",
    "    'password': None,\n",
    "}"
   ]
  },
  {
   "cell_type": "code",
   "execution_count": 3,
   "metadata": {},
   "outputs": [
    {
     "data": {
      "text/plain": [
       "'Connected: dev@dev'"
      ]
     },
     "execution_count": 3,
     "metadata": {},
     "output_type": "execute_result"
    }
   ],
   "source": [
    "%load_ext sql\n",
    "dsl = 'postgres://{user}:{password}@{host}:{port}/{database}'.format(**pgconfig)\n",
    "%sql $dsl"
   ]
  },
  {
   "cell_type": "code",
   "execution_count": 4,
   "metadata": {},
   "outputs": [],
   "source": [
    "class JobAdCorpus(TextCorpus):\n",
    "    def __init__(self, query, metadata=None):\n",
    "        self.metadata=metadata\n",
    "        self.input=None\n",
    "        self.fname='none'\n",
    "        self.df = query \n",
    "     \n",
    "    def get_texts(self):\n",
    "        for id, title, content in self.df:\n",
    "            tokenized_content = tokenize(\n",
    "                unicodedata.normalize(\n",
    "                    \"NFKD\",\n",
    "                    bs4.BeautifulSoup(content, 'html5lib').text\n",
    "                )\n",
    "            )\n",
    "            if self.metadata:\n",
    "                yield (tokenized_content, (id, title))\n",
    "            else:\n",
    "                yield tokenized_content\n",
    "                "
   ]
  },
  {
   "cell_type": "markdown",
   "metadata": {},
   "source": [
    "# Build Dictionary"
   ]
  },
  {
   "cell_type": "code",
   "execution_count": 6,
   "metadata": {},
   "outputs": [
    {
     "name": "stdout",
     "output_type": "stream",
     "text": [
      "21203 rows affected.\n"
     ]
    }
   ],
   "source": [
    "DEFAULT_DICT_SIZE = 100000\n",
    "query = %sql select id, title, mobile_ad_template from jobs where sub_classification__id=6287\n",
    "jobad = JobAdCorpus(metadata=False, query=query)\n",
    "dictionary = Dictionary(jobad.get_texts())\n",
    "jobad.dictionary = dictionary\n",
    "jobad.dictionary.filter_extremes(no_below=20, no_above=0.1, keep_n=DEFAULT_DICT_SIZE)\n",
    "jobad.dictionary.save_as_text(outp + '_wordids.txt.bz2')"
   ]
  },
  {
   "cell_type": "markdown",
   "metadata": {},
   "source": [
    "# Plain Corpus -> Mm Corpus"
   ]
  },
  {
   "cell_type": "code",
   "execution_count": 7,
   "metadata": {},
   "outputs": [
    {
     "name": "stdout",
     "output_type": "stream",
     "text": [
      "1143 rows affected.\n"
     ]
    }
   ],
   "source": [
    "query = %sql select id, title, mobile_ad_template from jobs where sub_classification__id=6287 and location_hierarchy__state='Victoria' and listing_date::date>now()::date-30; \n",
    "jobad = JobAdCorpus(query=query, metadata=True)\n",
    "dictionary = dictionary or Dictionary.load_from_text(outp + '_wordids.txt.bz2')\n",
    "jobad.dictionary = dictionary\n",
    "MmCorpus.serialize(outp + '_bow.mm', jobad, progress_cnt=10000, metadata=True)"
   ]
  },
  {
   "cell_type": "markdown",
   "metadata": {},
   "source": [
    "# Tfidf"
   ]
  },
  {
   "cell_type": "code",
   "execution_count": 8,
   "metadata": {},
   "outputs": [],
   "source": [
    "dictionary = dictionary or Dictionary.load_from_text(outp + '_wordids.txt.bz2')\n",
    "corpus_mm = MmCorpus(outp + '_bow.mm')\n",
    "tfidf = TfidfModel(corpus_mm, id2word=dictionary, normalize=True)\n",
    "MmCorpus.serialize(outp + '_tfidf.mm', tfidf[corpus_mm], progress_cnt=10000)"
   ]
  },
  {
   "cell_type": "markdown",
   "metadata": {},
   "source": [
    "# Lsi"
   ]
  },
  {
   "cell_type": "code",
   "execution_count": 6,
   "metadata": {},
   "outputs": [],
   "source": [
    "dictionary = dictionary or Dictionary.load_from_text(outp + '_wordids.txt.bz2')\n",
    "corpus_tfidf = MmCorpus(outp + '_tfidf.mm')\n",
    "lsi = models.LsiModel(corpus_tfidf, id2word=dictionary, num_topics=200)\n",
    "corpus_lsi = lsi[corpus_tfidf]\n",
    "MmCorpus.serialize(outp + '_lsi.mm', corpus_lsi, progress_cnt=10000)"
   ]
  },
  {
   "cell_type": "markdown",
   "metadata": {},
   "source": [
    "# Query"
   ]
  },
  {
   "cell_type": "code",
   "execution_count": 7,
   "metadata": {},
   "outputs": [
    {
     "data": {
      "text/html": [
       "<table>\n",
       "<thead>\n",
       "<tr><th style=\"text-align: right;\">  Similarity</th><th>Title                                                                           </th></tr>\n",
       "</thead>\n",
       "<tbody>\n",
       "<tr><td style=\"text-align: right;\">    0.491399</td><td>Senior React / JavaScript Developer                                             </td></tr>\n",
       "<tr><td style=\"text-align: right;\">    0.450245</td><td>FullStack Developer - Node / Golang                                             </td></tr>\n",
       "<tr><td style=\"text-align: right;\">    0.415908</td><td>Senior Developer                                                                </td></tr>\n",
       "<tr><td style=\"text-align: right;\">    0.389994</td><td>REACT Developer (3 months initially)                                            </td></tr>\n",
       "<tr><td style=\"text-align: right;\">    0.374252</td><td>ReactJS Developer - Melbourne                                                   </td></tr>\n",
       "<tr><td style=\"text-align: right;\">    0.35333 </td><td>Experienced React Dev                                                           </td></tr>\n",
       "<tr><td style=\"text-align: right;\">    0.337109</td><td>Python Developer                                                                </td></tr>\n",
       "<tr><td style=\"text-align: right;\">    0.335757</td><td>Artificial Intelligence & Machine Learning Engineer                             </td></tr>\n",
       "<tr><td style=\"text-align: right;\">    0.31741 </td><td>Senior Full Stack Developer                                                     </td></tr>\n",
       "<tr><td style=\"text-align: right;\">    0.31741 </td><td>Senior Full Stack Developer                                                     </td></tr>\n",
       "<tr><td style=\"text-align: right;\">    0.31741 </td><td>Senior Full Stack Developer                                                     </td></tr>\n",
       "<tr><td style=\"text-align: right;\">    0.316742</td><td>1x LEAD & 1x Senior Front End / JavaScript Developer | React | Greenfield Work  </td></tr>\n",
       "<tr><td style=\"text-align: right;\">    0.313225</td><td>Junior-Mid Level Full Stack PHP Developer                                       </td></tr>\n",
       "<tr><td style=\"text-align: right;\">    0.311232</td><td>Senior Front End Developer - Internet of Things                                 </td></tr>\n",
       "<tr><td style=\"text-align: right;\">    0.30665 </td><td>Data Scientist                                                                  </td></tr>\n",
       "<tr><td style=\"text-align: right;\">    0.303804</td><td>Software Engineer (React Native, MongoDB, NodeJS)                               </td></tr>\n",
       "<tr><td style=\"text-align: right;\">    0.302647</td><td>Data Engineer / Developer                                                       </td></tr>\n",
       "<tr><td style=\"text-align: right;\">    0.297986</td><td>PHP Developer                                                                   </td></tr>\n",
       "<tr><td style=\"text-align: right;\">    0.2955  </td><td>Big Data Platform Developer                                                     </td></tr>\n",
       "<tr><td style=\"text-align: right;\">    0.295307</td><td>Senior React Native Developer                                                   </td></tr>\n",
       "<tr><td style=\"text-align: right;\">    0.283007</td><td>Software Developer (React Native, NodeJS, MongoDB)                              </td></tr>\n",
       "<tr><td style=\"text-align: right;\">    0.281418</td><td>Dev Ops/Sys Admin - Python                                                      </td></tr>\n",
       "<tr><td style=\"text-align: right;\">    0.261457</td><td>React Developer                                                                 </td></tr>\n",
       "<tr><td style=\"text-align: right;\">    0.25314 </td><td>Java/REST/Docker/AWS Engineers for hugely successful Silicon Valley, FinTech sta</td></tr>\n",
       "<tr><td style=\"text-align: right;\">    0.25314 </td><td>Java/REST/Docker/AWS Engineers for hugely successful Silicon Valley, FinTech sta</td></tr>\n",
       "<tr><td style=\"text-align: right;\">    0.250787</td><td>Java Developer - API's & data services                                          </td></tr>\n",
       "<tr><td style=\"text-align: right;\">    0.249857</td><td>Full Stack Developer                                                            </td></tr>\n",
       "<tr><td style=\"text-align: right;\">    0.249818</td><td>Technology Lead - Java/JEE                                                      </td></tr>\n",
       "<tr><td style=\"text-align: right;\">    0.247513</td><td>NodeJS Developer / Programmer / Specialist                                      </td></tr>\n",
       "<tr><td style=\"text-align: right;\">    0.247196</td><td>Python, Java and React Developer                                                </td></tr>\n",
       "<tr><td style=\"text-align: right;\">    0.247183</td><td>Mid-level full stack engineer for growing tech company                          </td></tr>\n",
       "<tr><td style=\"text-align: right;\">    0.240084</td><td>IntelligenceBank - Senior Front End React/Redux Developer                       </td></tr>\n",
       "<tr><td style=\"text-align: right;\">    0.239636</td><td>C++, Java or Python Engineer / Developer, Investment Bank Org.                  </td></tr>\n",
       "<tr><td style=\"text-align: right;\">    0.239609</td><td>Senior Software Data Engineer (Enterprise, Evangelist)                          </td></tr>\n",
       "<tr><td style=\"text-align: right;\">    0.239609</td><td>Senior Software Data Engineer (Enterprise, Evangelist)                          </td></tr>\n",
       "<tr><td style=\"text-align: right;\">    0.23472 </td><td>Full Stack Developer                                                            </td></tr>\n",
       "<tr><td style=\"text-align: right;\">    0.232029</td><td>Python Developer | Telco | Contract                                             </td></tr>\n",
       "<tr><td style=\"text-align: right;\">    0.227666</td><td>API Lead Developer                                                              </td></tr>\n",
       "<tr><td style=\"text-align: right;\">    0.223905</td><td>LEAD JAVA DEVELOPER                                                             </td></tr>\n",
       "<tr><td style=\"text-align: right;\">    0.223778</td><td>Senior Front End Web Developer                                                  </td></tr>\n",
       "<tr><td style=\"text-align: right;\">    0.217508</td><td>Front End Developer - CSS / HTML / AngularJS                                    </td></tr>\n",
       "<tr><td style=\"text-align: right;\">    0.214994</td><td>Fullstack Engineer - (Scala, Node, React)                                       </td></tr>\n",
       "<tr><td style=\"text-align: right;\">    0.213421</td><td>Technical Digital Team Lead                                                     </td></tr>\n",
       "<tr><td style=\"text-align: right;\">    0.209814</td><td>Data Engineer                                                                   </td></tr>\n",
       "<tr><td style=\"text-align: right;\">    0.208147</td><td>Data engineer -- Python                                                         </td></tr>\n",
       "<tr><td style=\"text-align: right;\">    0.20604 </td><td>Software Developer                                                              </td></tr>\n",
       "<tr><td style=\"text-align: right;\">    0.203382</td><td>JAVA Developer                                                                  </td></tr>\n",
       "<tr><td style=\"text-align: right;\">    0.201722</td><td>Full Stack Developer (Python/Django/Javascript/React)                           </td></tr>\n",
       "<tr><td style=\"text-align: right;\">    0.20098 </td><td>Android Developer for Homely.com.au (Hack days and more included!)              </td></tr>\n",
       "<tr><td style=\"text-align: right;\">    0.199467</td><td>Front End Developer - Windows Azure, AngularJS - Cloud                          </td></tr>\n",
       "</tbody>\n",
       "</table>"
      ],
      "text/plain": [
       "<IPython.core.display.HTML object>"
      ]
     },
     "metadata": {},
     "output_type": "display_data"
    }
   ],
   "source": [
    "keywords = \"react reactjs graphql koa nodejs python docker kubernetes k8s\"\n",
    "dictionary = dictionary or Dictionary.load_from_text(outp + '_wordids.txt.bz2')\n",
    "vec_bow = dictionary.doc2bow(keywords.lower().split())\n",
    "vec_lsi = lsi[vec_bow]\n",
    "index = similarities.MatrixSimilarity(corpus_lsi)\n",
    "sims = index[vec_lsi]\n",
    "sims = sorted(enumerate(sims), key=lambda item: -item[1])\n",
    "metadata = utils.unpickle(outp + '_bow.mm.metadata.cpickle')\n",
    "result = map(lambda a:(a[1],metadata[a[0]][1]),sims[:50])\n",
    "display(HTML(tabulate.tabulate(result, headers=['Similarity', 'Title'], tablefmt='html')))"
   ]
  }
 ],
 "metadata": {
  "kernelspec": {
   "display_name": "Python 3",
   "language": "python",
   "name": "python3"
  },
  "language_info": {
   "codemirror_mode": {
    "name": "ipython",
    "version": 3
   },
   "file_extension": ".py",
   "mimetype": "text/x-python",
   "name": "python",
   "nbconvert_exporter": "python",
   "pygments_lexer": "ipython3",
   "version": "3.6.3"
  }
 },
 "nbformat": 4,
 "nbformat_minor": 2
}
